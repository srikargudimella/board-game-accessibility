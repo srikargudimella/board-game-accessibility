{
 "cells": [
  {
   "cell_type": "code",
   "execution_count": 1,
   "metadata": {},
   "outputs": [
    {
     "name": "stdout",
     "output_type": "stream",
     "text": [
      "Requirement already satisfied: ultralytics in /Users/srikargudimella/opt/anaconda3/lib/python3.9/site-packages (8.3.64)\n",
      "Requirement already satisfied: numpy>=1.23.0 in /Users/srikargudimella/opt/anaconda3/lib/python3.9/site-packages (from ultralytics) (1.26.4)\n",
      "Requirement already satisfied: matplotlib>=3.3.0 in /Users/srikargudimella/opt/anaconda3/lib/python3.9/site-packages (from ultralytics) (3.5.1)\n",
      "Requirement already satisfied: opencv-python>=4.6.0 in /Users/srikargudimella/opt/anaconda3/lib/python3.9/site-packages (from ultralytics) (4.6.0.66)\n",
      "Requirement already satisfied: pillow>=7.1.2 in /Users/srikargudimella/opt/anaconda3/lib/python3.9/site-packages (from ultralytics) (9.0.1)\n",
      "Requirement already satisfied: pyyaml>=5.3.1 in /Users/srikargudimella/opt/anaconda3/lib/python3.9/site-packages (from ultralytics) (6.0)\n",
      "Requirement already satisfied: requests>=2.23.0 in /Users/srikargudimella/opt/anaconda3/lib/python3.9/site-packages (from ultralytics) (2.31.0)\n",
      "Requirement already satisfied: scipy>=1.4.1 in /Users/srikargudimella/opt/anaconda3/lib/python3.9/site-packages (from ultralytics) (1.13.1)\n",
      "Requirement already satisfied: torch>=1.8.0 in /Users/srikargudimella/opt/anaconda3/lib/python3.9/site-packages (from ultralytics) (2.2.2)\n",
      "Requirement already satisfied: torchvision>=0.9.0 in /Users/srikargudimella/opt/anaconda3/lib/python3.9/site-packages (from ultralytics) (0.17.2)\n",
      "Requirement already satisfied: tqdm>=4.64.0 in /Users/srikargudimella/opt/anaconda3/lib/python3.9/site-packages (from ultralytics) (4.65.0)\n",
      "Requirement already satisfied: psutil in /Users/srikargudimella/opt/anaconda3/lib/python3.9/site-packages (from ultralytics) (5.8.0)\n",
      "Requirement already satisfied: py-cpuinfo in /Users/srikargudimella/opt/anaconda3/lib/python3.9/site-packages (from ultralytics) (9.0.0)\n",
      "Requirement already satisfied: pandas>=1.1.4 in /Users/srikargudimella/opt/anaconda3/lib/python3.9/site-packages (from ultralytics) (1.4.2)\n",
      "Requirement already satisfied: seaborn>=0.11.0 in /Users/srikargudimella/opt/anaconda3/lib/python3.9/site-packages (from ultralytics) (0.11.2)\n",
      "Requirement already satisfied: ultralytics-thop>=2.0.0 in /Users/srikargudimella/opt/anaconda3/lib/python3.9/site-packages (from ultralytics) (2.0.14)\n",
      "Requirement already satisfied: cycler>=0.10 in /Users/srikargudimella/opt/anaconda3/lib/python3.9/site-packages (from matplotlib>=3.3.0->ultralytics) (0.11.0)\n",
      "Requirement already satisfied: fonttools>=4.22.0 in /Users/srikargudimella/opt/anaconda3/lib/python3.9/site-packages (from matplotlib>=3.3.0->ultralytics) (4.25.0)\n",
      "Requirement already satisfied: kiwisolver>=1.0.1 in /Users/srikargudimella/opt/anaconda3/lib/python3.9/site-packages (from matplotlib>=3.3.0->ultralytics) (1.3.2)\n",
      "Requirement already satisfied: packaging>=20.0 in /Users/srikargudimella/opt/anaconda3/lib/python3.9/site-packages (from matplotlib>=3.3.0->ultralytics) (21.3)\n",
      "Requirement already satisfied: pyparsing>=2.2.1 in /Users/srikargudimella/opt/anaconda3/lib/python3.9/site-packages (from matplotlib>=3.3.0->ultralytics) (3.0.4)\n",
      "Requirement already satisfied: python-dateutil>=2.7 in /Users/srikargudimella/opt/anaconda3/lib/python3.9/site-packages (from matplotlib>=3.3.0->ultralytics) (2.8.2)\n",
      "Requirement already satisfied: pytz>=2020.1 in /Users/srikargudimella/opt/anaconda3/lib/python3.9/site-packages (from pandas>=1.1.4->ultralytics) (2021.3)\n",
      "Requirement already satisfied: charset-normalizer<4,>=2 in /Users/srikargudimella/opt/anaconda3/lib/python3.9/site-packages (from requests>=2.23.0->ultralytics) (2.0.4)\n",
      "Requirement already satisfied: idna<4,>=2.5 in /Users/srikargudimella/opt/anaconda3/lib/python3.9/site-packages (from requests>=2.23.0->ultralytics) (3.3)\n",
      "Requirement already satisfied: urllib3<3,>=1.21.1 in /Users/srikargudimella/opt/anaconda3/lib/python3.9/site-packages (from requests>=2.23.0->ultralytics) (1.26.9)\n",
      "Requirement already satisfied: certifi>=2017.4.17 in /Users/srikargudimella/opt/anaconda3/lib/python3.9/site-packages (from requests>=2.23.0->ultralytics) (2021.10.8)\n",
      "Requirement already satisfied: filelock in /Users/srikargudimella/opt/anaconda3/lib/python3.9/site-packages (from torch>=1.8.0->ultralytics) (3.6.0)\n",
      "Requirement already satisfied: typing-extensions>=4.8.0 in /Users/srikargudimella/opt/anaconda3/lib/python3.9/site-packages (from torch>=1.8.0->ultralytics) (4.12.2)\n",
      "Requirement already satisfied: sympy in /Users/srikargudimella/opt/anaconda3/lib/python3.9/site-packages (from torch>=1.8.0->ultralytics) (1.10.1)\n",
      "Requirement already satisfied: networkx in /Users/srikargudimella/opt/anaconda3/lib/python3.9/site-packages (from torch>=1.8.0->ultralytics) (2.7.1)\n",
      "Requirement already satisfied: jinja2 in /Users/srikargudimella/opt/anaconda3/lib/python3.9/site-packages (from torch>=1.8.0->ultralytics) (2.11.3)\n",
      "Requirement already satisfied: fsspec in /Users/srikargudimella/opt/anaconda3/lib/python3.9/site-packages (from torch>=1.8.0->ultralytics) (2022.2.0)\n",
      "Requirement already satisfied: six>=1.5 in /Users/srikargudimella/opt/anaconda3/lib/python3.9/site-packages (from python-dateutil>=2.7->matplotlib>=3.3.0->ultralytics) (1.16.0)\n",
      "Requirement already satisfied: MarkupSafe>=0.23 in /Users/srikargudimella/opt/anaconda3/lib/python3.9/site-packages (from jinja2->torch>=1.8.0->ultralytics) (2.0.1)\n",
      "Requirement already satisfied: mpmath>=0.19 in /Users/srikargudimella/opt/anaconda3/lib/python3.9/site-packages (from sympy->torch>=1.8.0->ultralytics) (1.2.1)\n",
      "^C\n",
      "\u001b[31mERROR: Operation cancelled by user\u001b[0m\u001b[31m\n",
      "\u001b[0m"
     ]
    }
   ],
   "source": [
    "!pip install ultralytics"
   ]
  },
  {
   "cell_type": "code",
   "execution_count": 2,
   "metadata": {},
   "outputs": [],
   "source": [
    "from gameboardstream import GameBoardStream\n",
    "from gameboard import GameBoard\n",
    "from referencemap import ReferenceMap\n",
    "import cv2\n",
    "\n"
   ]
  },
  {
   "cell_type": "code",
   "execution_count": 2,
   "metadata": {},
   "outputs": [],
   "source": [
    "refMap = ReferenceMap('ReferenceMap.png', 'candylandMapAnnotations.xml')"
   ]
  },
  {
   "cell_type": "code",
   "execution_count": null,
   "metadata": {},
   "outputs": [],
   "source": [
    "refMap.reference_squares\n"
   ]
  },
  {
   "cell_type": "code",
   "execution_count": 3,
   "metadata": {},
   "outputs": [
    {
     "name": "stdout",
     "output_type": "stream",
     "text": [
      "\n",
      "0: 544x640 4 Corners, 96.9ms\n",
      "Speed: 5.7ms preprocess, 96.9ms inference, 9.9ms postprocess per image at shape (1, 3, 544, 640)\n",
      "ordered corners [[     274.17      38.064]\n",
      " [       1623      155.12]\n",
      " [     1634.1      1387.6]\n",
      " [     41.444      1245.5]]\n",
      "\n",
      "0: 544x640 4 Corners, 55.6ms\n",
      "Speed: 2.9ms preprocess, 55.6ms inference, 0.5ms postprocess per image at shape (1, 3, 544, 640)\n",
      "ordered corners [[     274.17      38.064]\n",
      " [       1623      155.12]\n",
      " [     1634.1      1387.6]\n",
      " [     41.444      1245.5]]\n",
      "\n",
      "0: 544x640 1 Green Square, 1 Purple Square, 1 Striped Triangle, 1 Yellow Circle, 90.1ms\n",
      "Speed: 4.3ms preprocess, 90.1ms inference, 1.8ms postprocess per image at shape (1, 3, 544, 640)\n"
     ]
    }
   ],
   "source": [
    "# Initialize the mapper\n",
    "game_board = GameBoard('ReferenceMap.png', 'candylandMapAnnotations.xml', [\"Purple Square\"])\n",
    "camera_image_path = '/Users/srikargudimella/Documents/Screenshot 2025-01-20 at 12.44.41 PM.png'\n",
    "\n",
    "camera_image = cv2.imread(camera_image_path)\n",
    "game_board.update_game_board(camera_image)\n",
    "# game_board.show_game_board_with_annotations()"
   ]
  },
  {
   "cell_type": "code",
   "execution_count": 7,
   "metadata": {},
   "outputs": [
    {
     "data": {
      "text/plain": [
       "[GameSquare(id=0, name='0_Red_Square', points=[array([     750.45,      2774.5]), array([     734.86,      2900.7]), array([     898.91,      2909.5]), array([     907.93,      2785.2])], center=(np.float64(823.0364697824422), np.float64(2842.4625172379383)), color='Red', contains_dragon=False, landing_square=0),\n",
       " GameSquare(id=1, name='1_Purple_Square', points=[array([      916.2,      2786.7]), array([     911.98,      2908.3]), array([     1074.8,      2909.3]), array([       1068,      2787.2])], center=(np.float64(992.7509840058644), np.float64(2847.8860528908535)), color='Purple', contains_dragon=False, landing_square=1),\n",
       " GameSquare(id=2, name='2_Yellow_Square', points=[array([     1077.2,      2787.5]), array([     1083.8,      2914.9]), array([     1253.1,      2890.8]), array([     1231.7,      2762.9])], center=(np.float64(1161.4563416119897), np.float64(2839.0048188852884)), color='Yellow', contains_dragon=False, landing_square=33),\n",
       " GameSquare(id=3, name='3_Blue_Square', points=[array([     1237.2,        2763]), array([     1260.5,      2887.4]), array([     1411.8,      2859.2]), array([     1397.7,      2738.5])], center=(np.float64(1326.7950103212304), np.float64(2812.049070653666)), color='Blue', contains_dragon=False, landing_square=3),\n",
       " GameSquare(id=4, name='4_Orange_Square', points=[array([     1406.9,      2736.9]), array([       1421,      2861.3]), array([     1566.9,      2843.7]), array([     1558.3,      2721.1])], center=(np.float64(1488.2824299079646), np.float64(2790.7578357949546)), color='Orange', contains_dragon=False, landing_square=4),\n",
       " GameSquare(id=5, name='5_Green_Square', points=[array([     1569.4,      2721.4]), array([     1572.6,      2840.2]), array([     1710.9,      2851.1]), array([     1737.3,        2733])], center=(np.float64(1647.5211978602981), np.float64(2786.4427896022776)), color='Green', contains_dragon=False, landing_square=5),\n",
       " GameSquare(id=6, name='6_Red_Square', points=[array([     1748.3,      2736.9]), array([     1725.5,      2858.7]), array([     1865.4,      2900.4]), array([       1903,      2782.4])], center=(np.float64(1810.5412256696586), np.float64(2819.602709470579)), color='Red', contains_dragon=False, landing_square=6),\n",
       " GameSquare(id=7, name='7_Purple_Square', points=[array([     1915.2,      2786.5]), array([     1879.6,        2905]), array([     2037.3,      2948.8]), array([     2063.2,      2827.5])], center=(np.float64(1973.8351862340653), np.float64(2866.9731836548794)), color='Purple', contains_dragon=False, landing_square=7),\n",
       " GameSquare(id=8, name='8_Yellow_Square', points=[array([     2070.5,      2828.9]), array([     2049.6,      2952.7]), array([     2225.4,      2975.5]), array([       2223,      2847.4])], center=(np.float64(2142.1380477053267), np.float64(2901.136424647313)), color='Yellow', contains_dragon=False, landing_square=8),\n",
       " GameSquare(id=9, name='9_Blue_Square', points=[array([     2227.4,      2846.6]), array([     2230.8,      2975.6]), array([       2333,        2971]), array([     2416.9,      2943.3]), array([     2361.7,      2826.9])], center=(np.float64(2313.9775326618155), np.float64(2912.687308323555)), color='Blue', contains_dragon=False, landing_square=9),\n",
       " GameSquare(id=10, name='10_Orange_Square', points=[array([     2366.9,      2822.3]), array([     2422.6,      2940.1]), array([     2513.2,      2871.8]), array([     2553.6,      2775.7]), array([     2432.9,      2740.2])], center=(np.float64(2457.838896603779), np.float64(2830.039380435644)), color='Orange', contains_dragon=False, landing_square=10),\n",
       " GameSquare(id=11, name='11_Green_Square', points=[array([     2508.4,      2554.1]), array([     2412.8,      2637.7]), array([     2434.5,      2684.2]), array([     2433.5,      2736.2]), array([     2556.7,      2771.4]), array([     2566.3,      2654.6])], center=(np.float64(2485.3582395888966), np.float64(2673.04405950472)), color='Green', contains_dragon=False, landing_square=11),\n",
       " GameSquare(id=12, name='12_Red_Square', points=[array([     2311.1,      2467.4]), array([     2309.6,      2593.2]), array([     2410.8,      2631.7]), array([     2506.4,      2549.1]), array([       2421,        2486])], center=(np.float64(2391.794247808598), np.float64(2545.4690956599275)), color='Red', contains_dragon=False, landing_square=12),\n",
       " GameSquare(id=13, name='13_Purple_Square', points=[array([     2132.6,        2494]), array([     2158.9,      2615.3]), array([     2299.3,      2592.9]), array([       2305,      2465.2])], center=(np.float64(2223.9568843840816), np.float64(2541.8799612372213)), color='Purple', contains_dragon=False, landing_square=13),\n",
       " GameSquare(id=14, name='14_Yellow_Square', points=[array([     1987.6,      2502.2]), array([     1964.3,      2624.7]), array([     2067.4,      2634.5]), array([     2155.2,      2618.8]), array([       2127,      2492.4])], center=(np.float64(2060.3081794916984), np.float64(2574.508916209168)), color='Yellow', contains_dragon=False, landing_square=14),\n",
       " GameSquare(id=15, name='15_Blue_Square', points=[array([     1809.4,      2448.9]), array([     1933.3,      2454.2]), array([     1947.3,        2488]), array([     1981.5,      2500.8]), array([     1956.9,      2623.3]), array([       1880,      2598.7]), array([     1816.4,      2524.3])], center=(np.float64(1903.5491827345052), np.float64(2519.7542214694986)), color='Blue', contains_dragon=False, landing_square=15),\n",
       " GameSquare(id=16, name='16_Orange_Square', points=[array([     1809.3,      2440.7]), array([     1931.4,      2449.4]), array([     1982.5,      2401.8]), array([     1962.7,      2286.6]), array([     1857.1,      2328.7])], center=(np.float64(1908.5822207344522), np.float64(2381.455569564435)), color='Orange', contains_dragon=False, landing_square=16),\n",
       " GameSquare(id=17, name='17_Green_Square', points=[array([     1974.6,      2282.6]), array([     1997.3,      2397.9]), array([     2137.8,      2395.5]), array([       2146,      2280.7])], center=(np.float64(2063.9146531907336), np.float64(2339.1749162698534)), color='Green', contains_dragon=False, landing_square=17),\n",
       " GameSquare(id=18, name='18_Red_Square', points=[array([     2157.9,      2279.6]), array([       2148,        2400]), array([     2300.2,      2419.4]), array([     2320.4,        2302])], center=(np.float64(2231.618023425971), np.float64(2350.2440519443467)), color='Red', contains_dragon=False, landing_square=18),\n",
       " GameSquare(id=19, name='19_Purple_Square', points=[array([     2330.8,      2300.8]), array([     2310.5,      2422.5]), array([     2465.8,      2452.1]), array([     2489.1,      2330.3])], center=(np.float64(2399.0569504131495), np.float64(2376.4354566323323)), color='Purple', contains_dragon=False, landing_square=19),\n",
       " GameSquare(id=20, name='20_JaqGus', points=[array([     2497.7,        2338]), array([     2476.1,      2456.7]), array([     2599.4,      2466.9]), array([     2677.6,      2434.1]), array([     2605.2,      2327.2])], center=(np.float64(2571.2193239435665), np.float64(2404.572445621522)), color='JaqGus', contains_dragon=False, landing_square=20),\n",
       " GameSquare(id=21, name='21_Yellow_Square', points=[array([     2611.3,        2323]), array([     2685.2,      2428.5]), array([     2758.4,      2349.5]), array([     2794.8,      2249.3]), array([     2668.4,      2227.7])], center=(np.float64(2703.5945797902036), np.float64(2315.61191966994)), color='Yellow', contains_dragon=False, landing_square=21),\n",
       " GameSquare(id=22, name='22_Blue_Square', points=[array([     2758.7,      2043.6]), array([     2651.4,      2107.7]), array([       2673,      2219.2]), array([     2793.5,      2239.2]), array([     2794.2,      2132.4])], center=(np.float64(2734.1508469021237), np.float64(2148.395944008228)), color='Blue', contains_dragon=False, landing_square=22),\n",
       " GameSquare(id=23, name='23_Orange_Square', points=[array([     2574.8,        1923]), array([     2558.8,      2046.6]), array([     2648.6,        2099]), array([     2755.8,      2037.8]), array([     2681.3,      1956.9])], center=(np.float64(2643.8707820594054), np.float64(2012.6483700373446)), color='Orange', contains_dragon=False, landing_square=23),\n",
       " GameSquare(id=24, name='24_Green_Square', points=[array([     2391.7,      1932.3]), array([     2405.5,      2054.9]), array([     2548.5,      2043.5]), array([     2567.3,      1921.4])], center=(np.float64(2478.252357487291), np.float64(1988.0494881464906)), color='Green', contains_dragon=False, landing_square=24),\n",
       " GameSquare(id=25, name='25_Red_Square', points=[array([     2217.6,      1961.9]), array([     2241.9,      2077.4]), array([     2392.2,      2051.8]), array([     2379.7,      1934.9])], center=(np.float64(2307.8542932084447), np.float64(2006.4865720377952)), color='Red', contains_dragon=False, landing_square=25),\n",
       " GameSquare(id=26, name='26_Purple_Dragon', points=[array([     2052.5,      2004.4]), array([     2084.2,      2115.7]), array([     2228.5,      2081.4]), array([     2205.7,      1964.5])], center=(np.float64(2142.721836021156), np.float64(2041.4991064961328)), color='Purple', contains_dragon=True, landing_square=26),\n",
       " GameSquare(id=27, name='27_Yellow_Square', points=[array([     1883.3,        2054]), array([     1923.8,      2166.7]), array([     2075.4,      2116.9]), array([     2040.7,      2001.3])], center=(np.float64(1980.7887700177366), np.float64(2084.737221504218)), color='Yellow', contains_dragon=False, landing_square=27),\n",
       " GameSquare(id=28, name='28_Blue_Square', points=[array([     1727.6,      2110.9]), array([     1776.9,      2220.8]), array([     1911.9,      2167.9]), array([     1874.4,      2056.7])], center=(np.float64(1822.6867671572998), np.float64(2139.053851761115)), color='Blue', contains_dragon=False, landing_square=28),\n",
       " GameSquare(id=29, name='29_Orange_Square', points=[array([     1570.5,      2181.9]), array([       1627,      2290.4]), array([       1762,      2227.6]), array([     1717.2,      2114.9])], center=(np.float64(1669.168228870018), np.float64(2203.712344353973)), color='Orange', contains_dragon=False, landing_square=29),\n",
       " GameSquare(id=30, name='30_Green_Square', points=[array([     1434.1,      2258.9]), array([     1487.6,      2367.3]), array([     1613.7,      2294.4]), array([     1560.1,      2187.4])], center=(np.float64(1523.8809060203155), np.float64(2276.980869715999)), color='Green', contains_dragon=False, landing_square=30),\n",
       " GameSquare(id=31, name='31_Red_Square', points=[array([     1290.9,      2325.6]), array([     1334.1,      2432.2]), array([     1472.9,      2368.4]), array([     1422.3,      2265.7])], center=(np.float64(1380.0589702313819), np.float64(2347.972140263962)), color='Red', contains_dragon=False, landing_square=31),\n",
       " GameSquare(id=32, name='32_Sebastian', points=[array([     1132.2,      2381.8]), array([     1166.5,      2492.4]), array([     1322.2,      2441.9]), array([     1277.6,      2332.4])], center=(np.float64(1224.638150522367), np.float64(2412.107280573887)), color='Sebastian', contains_dragon=False, landing_square=32),\n",
       " GameSquare(id=33, name='33_Purple_Square', points=[array([     980.92,      2414.8]), array([     1001.4,        2526]), array([     1147.9,      2495.2]), array([     1122.5,      2381.2])], center=(np.float64(1063.1584285367003), np.float64(2454.3038229009767)), color='Purple', contains_dragon=False, landing_square=33),\n",
       " GameSquare(id=34, name='34_Yellow_Square', points=[array([     814.92,      2432.9]), array([     815.01,      2555.8]), array([     985.99,      2540.4]), array([     968.27,      2419.4])], center=(np.float64(896.0471828354968), np.float64(2487.1477620404603)), color='Yellow', contains_dragon=False, landing_square=34),\n",
       " GameSquare(id=35, name='35_Blue_Square', points=[array([     667.44,      2419.6]), array([      632.7,      2534.1]), array([     804.99,      2555.6]), array([      807.4,      2432.8])], center=(np.float64(728.1318623431536), np.float64(2485.5047431286866)), color='Blue', contains_dragon=False, landing_square=35),\n",
       " GameSquare(id=36, name='36_Orange_Square', points=[array([     543.74,      2355.3]), array([     454.69,      2443.9]), array([     543.28,      2507.3]), array([     620.21,      2533.8]), array([     654.99,      2416.8])], center=(np.float64(563.3829665649375), np.float64(2451.4289751980205)), color='Orange', contains_dragon=False, landing_square=36),\n",
       " GameSquare(id=37, name='37_Green_Square', points=[array([     363.57,      2260.4]), array([     483.63,      2238.7]), array([      538.8,      2352.7]), array([      447.4,      2433.9]), array([     389.25,      2349.2])], center=(np.float64(444.5304841354474), np.float64(2326.9841091424432)), color='Green', contains_dragon=False, landing_square=37),\n",
       " GameSquare(id=38, name='38_Red_Square', points=[array([     361.27,      2250.6]), array([     478.83,      2228.7]), array([     493.49,      2116.3]), array([     382.41,        2060]), array([      358.2,      2152.5])], center=(np.float64(414.83853319812897), np.float64(2161.6146398558494)), color='Red', contains_dragon=False, landing_square=38),\n",
       " GameSquare(id=39, name='39_Purple_Square', points=[array([     385.08,      2050.2]), array([     496.17,      2106.5]), array([     580.24,        2020]), array([     517.35,      1915.7]), array([     446.44,      1970.6])], center=(np.float64(485.0584680625658), np.float64(2012.609274934261)), color='Purple', contains_dragon=False, landing_square=39),\n",
       " GameSquare(id=40, name='40_Yellow_Square', points=[array([     527.48,      1908.5]), array([     590.33,      2015.3]), array([     726.15,      1976.4]), array([     706.08,      1850.7]), array([     615.63,        1871])], center=(np.float64(633.1328749981953), np.float64(1924.3984885633304)), color='Yellow', contains_dragon=False, landing_square=40),\n",
       " GameSquare(id=41, name='41_Blue_Square', points=[array([     713.62,      1848.4]), array([     733.75,      1971.7]), array([     879.17,      1969.7]), array([     889.11,        1847])], center=(np.float64(803.9131611994326), np.float64(1909.1912149368902)), color='Blue', contains_dragon=False, landing_square=41),\n",
       " GameSquare(id=42, name='42_Orange_Square', points=[array([     896.68,      1844.7]), array([     886.65,      1972.4]), array([       1042,      1995.2]), array([       1062,      1872.5])], center=(np.float64(971.8237774887015), np.float64(1921.1980693365647)), color='Orange', contains_dragon=False, landing_square=42),\n",
       " GameSquare(id=43, name='43_Green_Square', points=[array([       1071,      1872.4]), array([     1048.4,      1997.4]), array([     1201.8,      2031.1]), array([     1231.7,      1907.9])], center=(np.float64(1138.2371606080067), np.float64(1952.2125812020363)), color='Green', contains_dragon=False, landing_square=43),\n",
       " GameSquare(id=44, name='44_Red_Square', points=[array([     1237.2,        1908]), array([     1207.3,      2031.2]), array([     1377.8,        2051]), array([     1382.1,      1928.9])], center=(np.float64(1301.0866575442665), np.float64(1979.7837227531086)), color='Red', contains_dragon=False, landing_square=44),\n",
       " GameSquare(id=45, name='45_Purple_Square', points=[array([     1393.1,      1927.3]), array([       1387,      2051.2]), array([     1547.4,      2047.4]), array([     1538.7,      1924.9])], center=(np.float64(1466.5572180996253), np.float64(1987.6913005736053)), color='Purple', contains_dragon=False, landing_square=45),\n",
       " GameSquare(id=46, name='46_Yellow_Square', points=[array([     1546.2,      1923.2]), array([     1554.7,      2051.1]), array([     1719.5,      2029.4]), array([     1699.8,      1906.5])], center=(np.float64(1630.0286537465397), np.float64(1977.5624324533082)), color='Yellow', contains_dragon=False, landing_square=46),\n",
       " GameSquare(id=47, name='47_Blue_Square', points=[array([     1705.4,      1904.8]), array([     1728.8,        2026]), array([     1883.2,      1993.1]), array([       1854,      1875.3])], center=(np.float64(1792.8527490273568), np.float64(1949.8209930316098)), color='Blue', contains_dragon=False, landing_square=47),\n",
       " GameSquare(id=48, name='48_Orange_Square', points=[array([     1859.7,      1868.2]), array([     1890.6,      1993.3]), array([       2053,      1949.7]), array([     2010.8,      1827.9])], center=(np.float64(1953.5422581402809), np.float64(1909.774429696207)), color='Orange', contains_dragon=False, landing_square=48),\n",
       " GameSquare(id=49, name='49_Green_Square', points=[array([     2018.3,      1824.4]), array([     2058.7,      1944.4]), array([     2219.9,      1886.2]), array([     2168.3,      1767.7])], center=(np.float64(2116.285953047202), np.float64(1855.6603898015233)), color='Green', contains_dragon=False, landing_square=49),\n",
       " GameSquare(id=50, name='50_Red_Square', points=[array([     2173.9,      1762.3]), array([     2225.6,      1879.1]), array([     2368.8,      1809.5]), array([     2307.5,      1703.3])], center=(np.float64(2268.958026548229), np.float64(1788.5551331718646)), color='Red', contains_dragon=False, landing_square=50),\n",
       " GameSquare(id=51, name='51_Lumiere', points=[array([     2318.1,      1699.4]), array([     2381.5,      1810.9]), array([     2535.8,      1705.2]), array([     2439.8,      1616.7])], center=(np.float64(2418.7769859643768), np.float64(1708.0734335022078)), color='Lumiere', contains_dragon=False, landing_square=51),\n",
       " GameSquare(id=52, name='52_Purple_Square', points=[array([     2537.1,      1699.2]), array([     2443.6,      1613.1]), array([     2466.6,      1532.9]), array([     2577.5,      1482.2]), array([     2590.6,      1577.9])], center=(np.float64(2523.086534925854), np.float64(1581.0463882006404)), color='Purple', contains_dragon=False, landing_square=52),\n",
       " GameSquare(id=53, name='53_Yellow_Dragon', points=[array([     2362.2,      1385.4]), array([     2387.2,      1508.5]), array([     2460.8,      1528.2]), array([     2574.4,      1472.2]), array([     2528.2,      1415.9]), array([       2434,      1379.6])], center=(np.float64(2457.8039486013113), np.float64(1448.3002172726328)), color='Yellow', contains_dragon=True, landing_square=53),\n",
       " GameSquare(id=54, name='54_Blue_Square', points=[array([     2185.3,      1472.1]), array([     2264.9,        1570]), array([     2378.8,      1509.5]), array([     2356.3,      1385.9]), array([     2265.6,      1419.7])], center=(np.float64(2290.177513963493), np.float64(1471.4139019193603)), color='Blue', contains_dragon=False, landing_square=54),\n",
       " GameSquare(id=55, name='55_Orange_Square', points=[array([       2064,        1563]), array([       2111,      1677.5]), array([     2260.7,      1573.3]), array([     2182.3,      1473.2])], center=(np.float64(2154.512691045391), np.float64(1571.761820851625)), color='Orange', contains_dragon=False, landing_square=55),\n",
       " GameSquare(id=56, name='56_Green_Square', points=[array([     1961.9,      1566.4]), array([     1892.3,      1668.3]), array([     1953.3,      1697.1]), array([     2041.7,      1700.5]), array([     2105.6,      1681.5]), array([     2057.9,      1569.8])], center=(np.float64(2002.1054960435984), np.float64(1647.2685259532482)), color='Green', contains_dragon=False, landing_square=56),\n",
       " GameSquare(id=57, name='57_Red_Square', points=[array([     1794.4,      1470.1]), array([     1917.4,      1477.4]), array([     1956.6,      1562.8]), array([     1888.2,      1665.4]), array([     1830.7,      1608.5]), array([     1798.3,      1541.6])], center=(np.float64(1864.2628125932315), np.float64(1554.3103836233038)), color='Red', contains_dragon=False, landing_square=57),\n",
       " GameSquare(id=58, name='58_Purple_Square', points=[array([     1915.9,      1284.8]), array([     1972.4,      1397.6]), array([     1915.7,      1472.8]), array([     1792.7,      1465.5]), array([     1826.7,      1362.4])], center=(np.float64(1884.6998673015162), np.float64(1396.605333816032)), color='Purple', contains_dragon=False, landing_square=58),\n",
       " GameSquare(id=59, name='59_Yellow_Square', points=[array([     1920.7,      1282.6]), array([     1976.6,      1395.9]), array([     2113.9,      1359.5]), array([     2098.6,      1232.6]), array([     2003.8,      1246.1])], center=(np.float64(2022.7141782219649), np.float64(1303.3229725436818)), color='Yellow', contains_dragon=False, landing_square=59),\n",
       " GameSquare(id=60, name='60_Blue_Square', points=[array([       2108,      1231.6]), array([     2121.5,      1355.1]), array([     2286.1,      1333.8]), array([     2255.1,      1214.6])], center=(np.float64(2192.6799428830145), np.float64(1283.7722820828371)), color='Blue', contains_dragon=False, landing_square=60),\n",
       " GameSquare(id=61, name='61_Orange_Square', points=[array([     2262.6,      1211.1]), array([     2294.8,      1332.7]), array([     2365.8,        1305]), array([     2416.5,        1247]), array([     2441.8,      1156.2]), array([     2316.9,        1152]), array([     2298.9,      1190.1])], center=(np.float64(2342.4688727420057), np.float64(1227.7313591185361)), color='Orange', contains_dragon=False, landing_square=61),\n",
       " GameSquare(id=62, name='62_Green_Square', points=[array([     2318.4,      1143.6]), array([     2439.6,      1146.5]), array([     2416.8,        1049]), array([     2320.7,      964.94]), array([     2270.2,      1078.2])], center=(np.float64(2353.1278899763224), np.float64(1076.454271798955)), color='Green', contains_dragon=False, landing_square=62),\n",
       " GameSquare(id=63, name='63_Red_Square', points=[array([     2118.8,      940.75]), array([     2132.3,      1065.5]), array([     2256.7,      1075.6]), array([     2308.4,      961.18]), array([     2218.8,      937.24])], center=(np.float64(2206.9907177421674), np.float64(996.0499435391819)), color='Red', contains_dragon=False, landing_square=63),\n",
       " GameSquare(id=64, name='64_Purple_Square', points=[array([       1943,      989.91]), array([     1991.1,      1101.8]), array([     2123.7,      1065.4]), array([     2110.1,      941.84]), array([     2023.6,      958.67])], center=(np.float64(2038.2884428395228), np.float64(1011.5216141187611)), color='Purple', contains_dragon=False, landing_square=64),\n",
       " GameSquare(id=65, name='65_Yellow_Square', points=[array([     1934.3,      993.39]), array([     1782.7,      1082.2]), array([     1850.5,      1188.3]), array([     1984.9,      1108.9])], center=(np.float64(1888.1025240725858), np.float64(1093.1882765451169)), color='Yellow', contains_dragon=False, landing_square=65),\n",
       " GameSquare(id=66, name='66_Dopey', points=[array([     1775.3,      1086.8]), array([     1844.4,      1190.6]), array([     1713.8,      1280.6]), array([     1644.8,      1175.7])], center=(np.float64(1744.558559709523), np.float64(1183.4323736447654)), color='Dopey', contains_dragon=False, landing_square=66),\n",
       " GameSquare(id=67, name='67_Blue_Square', points=[array([       1635,      1179.1]), array([     1513.3,      1272.7]), array([     1579.8,      1370.4]), array([     1708.9,      1281.7])], center=(np.float64(1609.2325722085207), np.float64(1275.9822022285994)), color='Blue', contains_dragon=False, landing_square=67),\n",
       " GameSquare(id=68, name='68_Orange_Square', points=[array([     1505.9,      1277.4]), array([       1376,      1363.5]), array([     1439.8,      1468.2]), array([     1574.8,      1377.4])], center=(np.float64(1474.1176478356015), np.float64(1371.621609530603)), color='Orange', contains_dragon=False, landing_square=68),\n",
       " GameSquare(id=69, name='69_Green_Square', points=[array([     1367.4,      1366.9]), array([     1431.2,      1471.6]), array([     1293.1,      1552.6]), array([     1233.1,        1448])], center=(np.float64(1331.205732298372), np.float64(1459.790327600439)), color='Green', contains_dragon=False, landing_square=69),\n",
       " GameSquare(id=70, name='70_Red_Square', points=[array([     1224.5,      1449.1]), array([     1286.9,      1558.4]), array([     1145.6,      1629.6]), array([     1090.8,      1518.1])], center=(np.float64(1186.9478445531429), np.float64(1538.8191058708608)), color='Red', contains_dragon=False, landing_square=70),\n",
       " GameSquare(id=71, name='71_Purple_Square', points=[array([     1082.1,      1522.7]), array([     1138.3,      1633.1]), array([     987.68,      1700.4]), array([     940.27,      1584.4])], center=(np.float64(1037.0893370162337), np.float64(1610.1453384835904)), color='Purple', contains_dragon=False, landing_square=71),\n",
       " GameSquare(id=72, name='72_Yellow_Square', points=[array([     932.97,      1586.6]), array([     983.95,      1705.1]), array([     812.29,      1755.2]), array([     784.44,      1633.8])], center=(np.float64(878.4109317257039), np.float64(1670.1741600389475)), color='Yellow', contains_dragon=False, landing_square=72),\n",
       " GameSquare(id=73, name='73_Blue_Square', points=[array([      645.5,      1639.5]), array([      621.5,      1757.5]), array([     723.96,      1761.8]), array([     800.27,      1751.4]), array([     778.36,        1636])], center=(np.float64(713.9172708550483), np.float64(1709.271677472259)), color='Blue', contains_dragon=False, landing_square=73),\n",
       " GameSquare(id=74, name='74_Orange_Square', points=[array([     635.93,      1635.8]), array([     607.01,      1758.4]), array([     520.83,      1730.7]), array([     437.79,      1670.1]), array([     526.18,      1579.4])], center=(np.float64(545.5498561482913), np.float64(1674.888858784018)), color='Orange', contains_dragon=False, landing_square=74),\n",
       " GameSquare(id=75, name='75_Green_Square', points=[array([     430.82,      1658.1]), array([     517.87,      1573.3]), array([     456.19,      1465.8]), array([     338.99,      1499.3]), array([     372.18,      1583.8])], center=(np.float64(423.2125376986738), np.float64(1556.0595367524804)), color='Green', contains_dragon=False, landing_square=75),\n",
       " GameSquare(id=76, name='76_Red_Square', points=[array([        338,      1488.6]), array([     452.75,      1457.5]), array([     450.37,      1332.1]), array([     333.19,        1303]), array([     322.94,      1398.6])], center=(np.float64(379.45128714364785), np.float64(1395.9559290951663)), color='Red', contains_dragon=False, landing_square=76),\n",
       " GameSquare(id=77, name='77_Purple_Square', points=[array([     336.98,      1293.6]), array([     451.81,      1320.3]), array([     516.35,      1218.3]), array([     432.55,      1135.5]), array([     374.78,        1202])], center=(np.float64(422.492324854712), np.float64(1233.9547028336974)), color='Purple', contains_dragon=False, landing_square=77),\n",
       " GameSquare(id=78, name='78_Yellow_Square', points=[array([     442.31,      1128.5]), array([     524.85,      1214.9]), array([     630.86,      1153.7]), array([     613.84,      1037.4]), array([     522.86,      1069.3])], center=(np.float64(546.9418443913507), np.float64(1120.7972026292905)), color='Yellow', contains_dragon=False, landing_square=78),\n",
       " GameSquare(id=79, name='79_Blue_Square', points=[array([     623.55,        1034]), array([     641.76,      1151.5]), array([     755.97,      1174.5]), array([     811.22,      1068.6]), array([     726.08,      1035.4])], center=(np.float64(711.7147394663566), np.float64(1092.834990659927)), color='Blue', contains_dragon=False, landing_square=79),\n",
       " GameSquare(id=80, name='80_Orange_Square', points=[array([     820.89,      1068.8]), array([     764.36,      1178.2]), array([     890.95,      1259.6]), array([     963.15,      1159.8])], center=(np.float64(859.8367983052358), np.float64(1166.5926291980231)), color='Orange', contains_dragon=False, landing_square=80),\n",
       " GameSquare(id=81, name='81_Green_Square', points=[array([     970.28,        1167]), array([     898.09,      1265.6]), array([     986.98,      1303.8]), array([     1091.2,        1309]), array([     1081.5,      1184.1])], center=(np.float64(1005.6160228483461), np.float64(1245.917362658127)), color='Green', contains_dragon=False, landing_square=81),\n",
       " GameSquare(id=82, name='82_Final_Square', points=[array([     1092.5,      1181.9]), array([     1099.7,      1310.3]), array([     1198.4,      1296.4]), array([     1285.4,      1265.7]), array([     1230.5,        1147])], center=(np.float64(1181.2886906381607), np.float64(1240.2700147619228)), color='Final', contains_dragon=False, landing_square=82)]"
      ]
     },
     "execution_count": 7,
     "metadata": {},
     "output_type": "execute_result"
    }
   ],
   "source": [
    "game_board.game_squares"
   ]
  },
  {
   "cell_type": "code",
   "execution_count": 5,
   "metadata": {},
   "outputs": [
    {
     "ename": "",
     "evalue": "",
     "output_type": "error",
     "traceback": [
      "\u001b[1;31mThe Kernel crashed while executing code in the current cell or a previous cell. \n",
      "\u001b[1;31mPlease review the code in the cell(s) to identify a possible cause of the failure. \n",
      "\u001b[1;31mClick <a href='https://aka.ms/vscodeJupyterKernelCrash'>here</a> for more info. \n",
      "\u001b[1;31mView Jupyter <a href='command:jupyter.viewOutput'>log</a> for further details."
     ]
    }
   ],
   "source": [
    "path = game_board.generate_path(\"Yellow Circle\", 4)\n",
    "game_board.plot_path(path)\n",
    "game_board.show_path(path)"
   ]
  },
  {
   "cell_type": "code",
   "execution_count": 3,
   "metadata": {},
   "outputs": [
    {
     "name": "stdout",
     "output_type": "stream",
     "text": [
      "[01/19 23:53:15.216591][info][850462][Context.cpp:69] Context created with config: default config!\n",
      "[01/19 23:53:15.216614][info][850462][Context.cpp:74] Context work_dir=/Users/srikargudimella/Documents/Senior-Design/Game-Board-Mapping\n",
      "[01/19 23:53:15.216616][info][850462][Context.cpp:77] \t- SDK version: 1.9.4\n",
      "[01/19 23:53:15.216617][info][850462][Context.cpp:78] \t- SDK stage version: main\n",
      "[01/19 23:53:15.216619][info][850462][Context.cpp:82] get config EnumerateNetDevice:false\n",
      "[01/19 23:53:15.216621][info][850462][MacPal.cpp:36] createObPal: create MacPal!\n",
      "[01/19 23:53:15.217515][info][850462][MacPal.cpp:104] Create PollingDeviceWatcher!\n",
      "[01/19 23:53:15.217521][info][850462][DeviceManager.cpp:15] Current found device(s): (0)\n",
      "[01/19 23:53:15.217524][info][850462][Pipeline.cpp:15] Try to create pipeline with default device.\n",
      "[01/19 23:53:15.217525][warning][850462][ObException.cpp:5] No device found, fail to create pipeline!\n",
      "[01/19 23:53:15.218777][info][850462][Context.cpp:90] Context destroyed\n"
     ]
    },
    {
     "name": "stderr",
     "output_type": "stream",
     "text": [
      "2025-01-19 23:53:15.213 Python[14538:850462] WARNING: AVCaptureDeviceTypeExternal is deprecated for Continuity Cameras. Please use AVCaptureDeviceTypeContinuityCamera and add NSCameraUseContinuityCameraDeviceType to your Info.plist.\n",
      "OpenCV: out device of bound (0-1): 2\n",
      "OpenCV: camera failed to properly initialize!\n",
      "[ WARN:0@12.504] global cap.cpp:323 open VIDEOIO(OBSENSOR): raised unknown C++ exception!\n",
      "\n",
      "\n"
     ]
    },
    {
     "ename": "Exception",
     "evalue": "Error: Could not open webcam",
     "output_type": "error",
     "traceback": [
      "\u001b[0;31m---------------------------------------------------------------------------\u001b[0m",
      "\u001b[0;31mException\u001b[0m                                 Traceback (most recent call last)",
      "Cell \u001b[0;32mIn[3], line 3\u001b[0m\n\u001b[1;32m      1\u001b[0m \u001b[38;5;28;01mfrom\u001b[39;00m \u001b[38;5;21;01mgamesession\u001b[39;00m \u001b[38;5;28;01mimport\u001b[39;00m GameSession\n\u001b[0;32m----> 3\u001b[0m game_session \u001b[38;5;241m=\u001b[39m \u001b[43mGameSession\u001b[49m\u001b[43m(\u001b[49m\u001b[38;5;124;43m'\u001b[39;49m\u001b[38;5;124;43mReferenceMap.png\u001b[39;49m\u001b[38;5;124;43m'\u001b[39;49m\u001b[43m,\u001b[49m\u001b[43m \u001b[49m\u001b[38;5;124;43m'\u001b[39;49m\u001b[38;5;124;43mcandylandMapAnnotations.xml\u001b[39;49m\u001b[38;5;124;43m'\u001b[39;49m\u001b[43m)\u001b[49m\n\u001b[1;32m      4\u001b[0m game_session\u001b[38;5;241m.\u001b[39mpieces\n",
      "File \u001b[0;32m~/Documents/Senior-Design/Game-Board-Mapping/gamesession.py:13\u001b[0m, in \u001b[0;36mGameSession.__init__\u001b[0;34m(self, reference_map_path, annotations_path)\u001b[0m\n\u001b[1;32m     11\u001b[0m \u001b[38;5;28mself\u001b[39m\u001b[38;5;241m.\u001b[39moverhead_cam \u001b[38;5;241m=\u001b[39m cv2\u001b[38;5;241m.\u001b[39mVideoCapture(\u001b[38;5;241m2\u001b[39m)\n\u001b[1;32m     12\u001b[0m \u001b[38;5;28;01mif\u001b[39;00m \u001b[38;5;129;01mnot\u001b[39;00m \u001b[38;5;28mself\u001b[39m\u001b[38;5;241m.\u001b[39moverhead_cam\u001b[38;5;241m.\u001b[39misOpened():\n\u001b[0;32m---> 13\u001b[0m     \u001b[38;5;28;01mraise\u001b[39;00m \u001b[38;5;167;01mException\u001b[39;00m(\u001b[38;5;124m\"\u001b[39m\u001b[38;5;124mError: Could not open webcam\u001b[39m\u001b[38;5;124m\"\u001b[39m)\n\u001b[1;32m     15\u001b[0m \u001b[38;5;28mself\u001b[39m\u001b[38;5;241m.\u001b[39mcard_reader_cam \u001b[38;5;241m=\u001b[39m cv2\u001b[38;5;241m.\u001b[39mVideoCapture(\u001b[38;5;241m1\u001b[39m)\n\u001b[1;32m     16\u001b[0m \u001b[38;5;28;01mif\u001b[39;00m \u001b[38;5;129;01mnot\u001b[39;00m \u001b[38;5;28mself\u001b[39m\u001b[38;5;241m.\u001b[39mcard_reader_cam\u001b[38;5;241m.\u001b[39misOpened():\n",
      "\u001b[0;31mException\u001b[0m: Error: Could not open webcam"
     ]
    }
   ],
   "source": [
    "from gamesession import GameSession\n",
    "\n",
    "game_session = GameSession('ReferenceMap.png', 'candylandMapAnnotations.xml')\n",
    "game_session.pieces\n"
   ]
  }
 ],
 "metadata": {
  "kernelspec": {
   "display_name": "Python 3",
   "language": "python",
   "name": "python3"
  },
  "language_info": {
   "codemirror_mode": {
    "name": "ipython",
    "version": 3
   },
   "file_extension": ".py",
   "mimetype": "text/x-python",
   "name": "python",
   "nbconvert_exporter": "python",
   "pygments_lexer": "ipython3",
   "version": "3.10.0"
  }
 },
 "nbformat": 4,
 "nbformat_minor": 2
}
